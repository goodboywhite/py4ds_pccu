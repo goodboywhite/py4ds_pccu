{
 "cells": [
  {
   "cell_type": "markdown",
   "metadata": {
    "slideshow": {
     "slide_type": "slide"
    }
   },
   "source": [
    "# 文字與正規表達式\n",
    "\n",
    "## 郭耀仁"
   ]
  },
  {
   "cell_type": "markdown",
   "metadata": {
    "slideshow": {
     "slide_type": "slide"
    }
   },
   "source": [
    "## 像 list 一樣操作\n",
    "\n",
    "- 文字能夠利用中括號與索引值切割，操作起來就像是 list"
   ]
  },
  {
   "cell_type": "code",
   "execution_count": 1,
   "metadata": {
    "slideshow": {
     "slide_type": "-"
    }
   },
   "outputs": [
    {
     "name": "stdout",
     "output_type": "stream",
     "text": [
      "14\n",
      "L\n",
      "Luke\n",
      "r\n"
     ]
    }
   ],
   "source": [
    "luke = 'Luke Skywalker'\n",
    "print(len(luke))\n",
    "print(luke[0])\n",
    "print(luke[:4])\n",
    "print(luke[-1])"
   ]
  },
  {
   "cell_type": "markdown",
   "metadata": {
    "slideshow": {
     "slide_type": "subslide"
    }
   },
   "source": [
    "## 常用的文字方法：大小寫的轉換\n",
    "\n",
    "- `.lower()`\n",
    "- `.upper()`\n",
    "- `.capitalize()`\n",
    "- `.title()`\n",
    "- `.swapcase()`"
   ]
  },
  {
   "cell_type": "code",
   "execution_count": 2,
   "metadata": {},
   "outputs": [
    {
     "name": "stdout",
     "output_type": "stream",
     "text": [
      "luke skywalker\n",
      "LUKE SKYWALKER\n",
      "Luke skywalker\n",
      "Luke Skywalker\n",
      "lUKE sKYWALKER\n"
     ]
    }
   ],
   "source": [
    "print(luke.lower())\n",
    "print(luke.upper())\n",
    "print(luke.lower().capitalize())\n",
    "print(luke.upper().title())\n",
    "print(luke.swapcase())"
   ]
  },
  {
   "cell_type": "markdown",
   "metadata": {
    "slideshow": {
     "slide_type": "subslide"
    }
   },
   "source": [
    "## 常用的文字方法：移除 leading/trailing 空白\n",
    "\n",
    "- `.lstrip()`\n",
    "- `.rstrip()`\n",
    "- `.strip()`"
   ]
  },
  {
   "cell_type": "code",
   "execution_count": 3,
   "metadata": {
    "slideshow": {
     "slide_type": "subslide"
    }
   },
   "outputs": [
    {
     "data": {
      "text/plain": [
       "'Luke Skywalker '"
      ]
     },
     "execution_count": 3,
     "metadata": {},
     "output_type": "execute_result"
    }
   ],
   "source": [
    "luke = ' Luke Skywalker '\n",
    "luke.lstrip()"
   ]
  },
  {
   "cell_type": "code",
   "execution_count": 4,
   "metadata": {},
   "outputs": [
    {
     "data": {
      "text/plain": [
       "' Luke Skywalker'"
      ]
     },
     "execution_count": 4,
     "metadata": {},
     "output_type": "execute_result"
    }
   ],
   "source": [
    "luke.rstrip()"
   ]
  },
  {
   "cell_type": "code",
   "execution_count": 5,
   "metadata": {},
   "outputs": [
    {
     "data": {
      "text/plain": [
       "'Luke Skywalker'"
      ]
     },
     "execution_count": 5,
     "metadata": {},
     "output_type": "execute_result"
    }
   ],
   "source": [
    "luke.strip()"
   ]
  },
  {
   "cell_type": "markdown",
   "metadata": {
    "slideshow": {
     "slide_type": "subslide"
    }
   },
   "source": [
    "## 常用的文字方法：指定某個 pattern 來分割\n",
    "\n",
    "- `.split()`"
   ]
  },
  {
   "cell_type": "code",
   "execution_count": 6,
   "metadata": {},
   "outputs": [
    {
     "name": "stdout",
     "output_type": "stream",
     "text": [
      "Luke\n",
      "Skywalker\n"
     ]
    }
   ],
   "source": [
    "luke = 'Luke Skywalker'\n",
    "given_name = luke.split(' ')[0]\n",
    "family_name = luke.split(' ')[1]\n",
    "print(given_name)\n",
    "print(family_name)"
   ]
  },
  {
   "cell_type": "code",
   "execution_count": 7,
   "metadata": {},
   "outputs": [
    {
     "name": "stdout",
     "output_type": "stream",
     "text": [
      "Luke\n",
      "Skywalker\n"
     ]
    }
   ],
   "source": [
    "luke = 'Skywalker, Luke'\n",
    "given_name = luke.split(', ')[1]\n",
    "family_name = luke.split(', ')[0]\n",
    "print(given_name)\n",
    "print(family_name)"
   ]
  },
  {
   "cell_type": "markdown",
   "metadata": {
    "slideshow": {
     "slide_type": "subslide"
    }
   },
   "source": [
    "## 正規表達式模組的 `re.split()`"
   ]
  },
  {
   "cell_type": "code",
   "execution_count": 8,
   "metadata": {},
   "outputs": [
    {
     "name": "stdout",
     "output_type": "stream",
     "text": [
      "Luke\n",
      "Skywalker\n"
     ]
    }
   ],
   "source": [
    "import re\n",
    "\n",
    "luke = 'Luke Skywalker'\n",
    "given_name = re.split('\\s', luke)[0]\n",
    "family_name = re.split('\\s', luke)[1]\n",
    "print(given_name)\n",
    "print(family_name)"
   ]
  },
  {
   "cell_type": "code",
   "execution_count": 9,
   "metadata": {},
   "outputs": [
    {
     "name": "stdout",
     "output_type": "stream",
     "text": [
      "Luke\n",
      "Skywalker\n"
     ]
    }
   ],
   "source": [
    "import re\n",
    "\n",
    "luke = 'Skywalker, Luke'\n",
    "given_name = re.split(',\\s', luke)[1]\n",
    "family_name = re.split(',\\s', luke)[0]\n",
    "print(given_name)\n",
    "print(family_name)"
   ]
  },
  {
   "cell_type": "markdown",
   "metadata": {
    "slideshow": {
     "slide_type": "subslide"
    }
   },
   "source": [
    "## 常用的文字方法：pattern matching\n",
    "\n",
    "- `.find()`\n",
    "- `.rfind()`\n",
    "- `.index()`\n",
    "- `.rindex()`"
   ]
  },
  {
   "cell_type": "code",
   "execution_count": 10,
   "metadata": {},
   "outputs": [
    {
     "name": "stdout",
     "output_type": "stream",
     "text": [
      "2\n",
      "11\n",
      "2\n",
      "11\n"
     ]
    }
   ],
   "source": [
    "luke = 'Luke Skywalker'\n",
    "print(luke.find('ke'))\n",
    "print(luke.rfind('ke'))\n",
    "print(luke.index('ke'))\n",
    "print(luke.rindex('ke'))"
   ]
  },
  {
   "cell_type": "markdown",
   "metadata": {
    "slideshow": {
     "slide_type": "subslide"
    }
   },
   "source": [
    "## 兩者的差別在於找不到時候的反應"
   ]
  },
  {
   "cell_type": "code",
   "execution_count": 11,
   "metadata": {
    "slideshow": {
     "slide_type": "-"
    }
   },
   "outputs": [
    {
     "name": "stdout",
     "output_type": "stream",
     "text": [
      "-1\n",
      "-1\n"
     ]
    }
   ],
   "source": [
    "luke = 'Luke Skywalker'\n",
    "print(luke.find('sk'))\n",
    "print(luke.rfind('sk'))\n",
    "#print(luke.index('sk'))\n",
    "#print(luke.rindex('sk'))"
   ]
  },
  {
   "cell_type": "markdown",
   "metadata": {
    "slideshow": {
     "slide_type": "subslide"
    }
   },
   "source": [
    "## 正規表達式模組的 re.findall()"
   ]
  },
  {
   "cell_type": "code",
   "execution_count": 12,
   "metadata": {},
   "outputs": [
    {
     "data": {
      "text/plain": [
       "['ke', 'ke']"
      ]
     },
     "execution_count": 12,
     "metadata": {},
     "output_type": "execute_result"
    }
   ],
   "source": [
    "import re\n",
    "\n",
    "luke = 'Luke Skywalker'\n",
    "re.findall('ke', luke)"
   ]
  },
  {
   "cell_type": "code",
   "execution_count": 13,
   "metadata": {},
   "outputs": [
    {
     "data": {
      "text/plain": [
       "[]"
      ]
     },
     "execution_count": 13,
     "metadata": {},
     "output_type": "execute_result"
    }
   ],
   "source": [
    "luke = 'Luke Skywalker'\n",
    "re.findall('sk', luke)"
   ]
  },
  {
   "cell_type": "markdown",
   "metadata": {
    "slideshow": {
     "slide_type": "subslide"
    }
   },
   "source": [
    "## 常用的文字方法：替換\n",
    "\n",
    "- `.replace()`"
   ]
  },
  {
   "cell_type": "code",
   "execution_count": 14,
   "metadata": {},
   "outputs": [
    {
     "name": "stdout",
     "output_type": "stream",
     "text": [
      "Anakin Skywalker\n",
      "AnakinSkywalker\n"
     ]
    }
   ],
   "source": [
    "luke = 'Luke Skywalker'\n",
    "anakin = luke.replace('Luke', 'Anakin')\n",
    "print(anakin)\n",
    "print(anakin.replace(' ', ''))"
   ]
  },
  {
   "cell_type": "markdown",
   "metadata": {
    "slideshow": {
     "slide_type": "subslide"
    }
   },
   "source": [
    "## 正規表達式模組的 re.sub()"
   ]
  },
  {
   "cell_type": "code",
   "execution_count": 15,
   "metadata": {},
   "outputs": [
    {
     "name": "stdout",
     "output_type": "stream",
     "text": [
      "Anakin Skywalker\n",
      "AnakinSkywalker\n"
     ]
    }
   ],
   "source": [
    "import re\n",
    "\n",
    "luke = 'Luke Skywalker'\n",
    "anakin = re.sub('Luke', 'Anakin', luke)\n",
    "print(anakin)\n",
    "print(re.sub('\\s', '', anakin))"
   ]
  },
  {
   "cell_type": "markdown",
   "metadata": {
    "slideshow": {
     "slide_type": "slide"
    }
   },
   "source": [
    "## 將函數應用至多個文字\n",
    "\n",
    "- 使用 `map()` 函數搭配 `lambda` 函數應用到 list\n",
    "- 使用 pandas 的方法應用到 Series"
   ]
  },
  {
   "cell_type": "markdown",
   "metadata": {
    "slideshow": {
     "slide_type": "subslide"
    }
   },
   "source": [
    "## 以 `.upper()` 方法為例"
   ]
  },
  {
   "cell_type": "code",
   "execution_count": 16,
   "metadata": {},
   "outputs": [
    {
     "data": {
      "text/plain": [
       "['ANAKIN SKYWALKER', 'LUKE SKYWALKER']"
      ]
     },
     "execution_count": 16,
     "metadata": {},
     "output_type": "execute_result"
    }
   ],
   "source": [
    "# map lambda function\n",
    "skywalkers = ['Anakin Skywalker', 'Luke Skywalker']\n",
    "list(map(lambda x: x.upper(), skywalkers))"
   ]
  },
  {
   "cell_type": "code",
   "execution_count": 17,
   "metadata": {},
   "outputs": [
    {
     "data": {
      "text/plain": [
       "0    ANAKIN SKYWALKER\n",
       "1      LUKE SKYWALKER\n",
       "dtype: object"
      ]
     },
     "execution_count": 17,
     "metadata": {},
     "output_type": "execute_result"
    }
   ],
   "source": [
    "# Series\n",
    "import pandas as pd\n",
    "\n",
    "ser = pd.Series(skywalkers)\n",
    "ser.str.upper()"
   ]
  },
  {
   "cell_type": "markdown",
   "metadata": {
    "slideshow": {
     "slide_type": "subslide"
    }
   },
   "source": [
    "## 以 `.split()` 方法為例"
   ]
  },
  {
   "cell_type": "code",
   "execution_count": 18,
   "metadata": {},
   "outputs": [
    {
     "data": {
      "text/plain": [
       "[['Anakin', 'Skywalker'], ['Luke', 'Skywalker']]"
      ]
     },
     "execution_count": 18,
     "metadata": {},
     "output_type": "execute_result"
    }
   ],
   "source": [
    "# map lambda function\n",
    "skywalkers = ['Anakin Skywalker', 'Luke Skywalker']\n",
    "list(map(lambda x: x.split(' '), skywalkers))"
   ]
  },
  {
   "cell_type": "code",
   "execution_count": 19,
   "metadata": {
    "slideshow": {
     "slide_type": "-"
    }
   },
   "outputs": [
    {
     "data": {
      "text/plain": [
       "0    [Anakin, Skywalker]\n",
       "1      [Luke, Skywalker]\n",
       "dtype: object"
      ]
     },
     "execution_count": 19,
     "metadata": {},
     "output_type": "execute_result"
    }
   ],
   "source": [
    "# Series\n",
    "import pandas as pd\n",
    "\n",
    "ser = pd.Series(skywalkers)\n",
    "ser.str.split(' ')"
   ]
  },
  {
   "cell_type": "markdown",
   "metadata": {
    "slideshow": {
     "slide_type": "subslide"
    }
   },
   "source": [
    "## 以 `.replace()` 方法為例"
   ]
  },
  {
   "cell_type": "code",
   "execution_count": 20,
   "metadata": {},
   "outputs": [
    {
     "data": {
      "text/plain": [
       "['AnakinSkywalker', 'LukeSkywalker']"
      ]
     },
     "execution_count": 20,
     "metadata": {},
     "output_type": "execute_result"
    }
   ],
   "source": [
    "# map lambda function\n",
    "skywalkers = ['Anakin Skywalker', 'Luke Skywalker']\n",
    "list(map(lambda x: x.replace(' ', ''), skywalkers))"
   ]
  },
  {
   "cell_type": "code",
   "execution_count": 21,
   "metadata": {},
   "outputs": [
    {
     "data": {
      "text/plain": [
       "0    AnakinSkywalker\n",
       "1      LukeSkywalker\n",
       "dtype: object"
      ]
     },
     "execution_count": 21,
     "metadata": {},
     "output_type": "execute_result"
    }
   ],
   "source": [
    "# Series\n",
    "import pandas as pd\n",
    "\n",
    "ser = pd.Series(skywalkers)\n",
    "ser.str.replace(' ', '')"
   ]
  },
  {
   "cell_type": "markdown",
   "metadata": {
    "slideshow": {
     "slide_type": "slide"
    }
   },
   "source": [
    "## 延伸閱讀\n",
    "\n",
    "- [re — Regular expression operations](https://docs.python.org/3/library/re.html#module-re)\n",
    "- [Python Strings](https://developers.google.com/edu/python/strings)"
   ]
  }
 ],
 "metadata": {
  "celltoolbar": "Slideshow",
  "kernelspec": {
   "display_name": "pyscraper",
   "language": "python",
   "name": "pyscraper"
  },
  "language_info": {
   "codemirror_mode": {
    "name": "ipython",
    "version": 3
   },
   "file_extension": ".py",
   "mimetype": "text/x-python",
   "name": "python",
   "nbconvert_exporter": "python",
   "pygments_lexer": "ipython3",
   "version": "3.6.4"
  }
 },
 "nbformat": 4,
 "nbformat_minor": 2
}
